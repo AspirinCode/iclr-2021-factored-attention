{
 "cells": [
  {
   "cell_type": "code",
   "execution_count": 1,
   "metadata": {},
   "outputs": [],
   "source": [
    "%load_ext autoreload\n",
    "%autoreload 2"
   ]
  },
  {
   "cell_type": "code",
   "execution_count": 2,
   "metadata": {},
   "outputs": [],
   "source": [
    "import itertools\n",
    "import matplotlib.pyplot as plt\n",
    "import numpy as np\n",
    "import pandas as pd\n",
    "import seaborn as sns\n",
    "\n",
    "from compare_wandb import load_full_df, get_test_pdbs, load_run_dict\n",
    "\n",
    "import wandb\n",
    "api = wandb.Api()\n",
    "entity = 'proteins'\n",
    "project = 'iclr2021-rebuttal'\n",
    "\n",
    "import boto3\n",
    "import os\n",
    "s3 = boto3.client(\"s3\")\n",
    "s3_bucket = \"proteindata\"\n",
    "\n",
    "import torch\n",
    "\n",
    "# load metatest pdbs\n",
    "with open('metatest_fams.txt', 'r') as f:\n",
    "    lines = f.readlines()\n",
    "    metatest_pdbs = [l.strip() for l in lines]\n",
    "\n",
    "from mogwai import models\n",
    "from mogwai.utils.functional import apc\n",
    "model_name = 'factored_attention'\n",
    "fatt_model = models.get(model_name)\n",
    "gremlin_model = models.get('gremlin')\n",
    "\n",
    "import matplotlib.pyplot as plt\n",
    "import numpy as np\n",
    "\n",
    "from tqdm import tqdm\n",
    "\n",
    "from scipy.stats import spearmanr\n",
    "from scipy.stats import pearsonr\n"
   ]
  },
  {
   "cell_type": "code",
   "execution_count": 3,
   "metadata": {},
   "outputs": [
    {
     "name": "stderr",
     "output_type": "stream",
     "text": [
      "100%|██████████| 748/748 [00:00<00:00, 34552.96it/s]"
     ]
    },
    {
     "name": "stdout",
     "output_type": "stream",
     "text": [
      "bxnkt0uq has 748 runs\n"
     ]
    },
    {
     "name": "stderr",
     "output_type": "stream",
     "text": [
      "\n",
      "100%|██████████| 748/748 [00:00<00:00, 33531.84it/s]"
     ]
    },
    {
     "name": "stdout",
     "output_type": "stream",
     "text": [
      "xuofwjtc has 748 runs\n"
     ]
    },
    {
     "name": "stderr",
     "output_type": "stream",
     "text": [
      "\n",
      "100%|██████████| 748/748 [00:00<00:00, 32964.59it/s]"
     ]
    },
    {
     "name": "stdout",
     "output_type": "stream",
     "text": [
      "kqe7or39 has 748 runs\n"
     ]
    },
    {
     "name": "stderr",
     "output_type": "stream",
     "text": [
      "\n",
      "100%|██████████| 748/748 [00:00<00:00, 33895.93it/s]"
     ]
    },
    {
     "name": "stdout",
     "output_type": "stream",
     "text": [
      "32emd6ri has 748 runs\n"
     ]
    },
    {
     "name": "stderr",
     "output_type": "stream",
     "text": [
      "\n",
      "  0%|          | 0/2233 [00:00<?, ?it/s]"
     ]
    },
    {
     "name": "stdout",
     "output_type": "stream",
     "text": [
      "8yi6a4w5 has 2233 runs\n"
     ]
    },
    {
     "name": "stderr",
     "output_type": "stream",
     "text": [
      "100%|██████████| 2233/2233 [00:03<00:00, 675.85it/s]\n"
     ]
    }
   ],
   "source": [
    "head_sweep_runs = {\n",
    "    'fatt-metatest-head-sweep-512': 'bxnkt0uq',\n",
    "    'fatt-metatest-head-256': 'xuofwjtc',\n",
    "    'fatt-metatest-head-sweep-64-kqe7or39': 'kqe7or39',\n",
    "    'fatt-metatest-head-sweep-128': '32emd6ri',\n",
    "    'fatt-metatest-head-sweep-8-32': '8yi6a4w5',\n",
    "}\n",
    "\n",
    "dict_of_dfs = load_run_dict(head_sweep_runs)\n",
    "fatt_df = pd.concat(list(dict_of_dfs.values()))"
   ]
  },
  {
   "cell_type": "code",
   "execution_count": 4,
   "metadata": {},
   "outputs": [
    {
     "name": "stderr",
     "output_type": "stream",
     "text": [
      "100%|██████████| 748/748 [00:00<00:00, 34989.96it/s]"
     ]
    },
    {
     "name": "stdout",
     "output_type": "stream",
     "text": [
      "dbuvl02g has 748 runs\n"
     ]
    },
    {
     "name": "stderr",
     "output_type": "stream",
     "text": [
      "\n"
     ]
    }
   ],
   "source": [
    "gremlin_runs = {'gremlin': 'dbuvl02g'}\n",
    "gremlin_df_dict = load_run_dict(gremlin_runs)\n",
    "gremlin_df = pd.concat(list(gremlin_df_dict.values()))"
   ]
  },
  {
   "cell_type": "code",
   "execution_count": 5,
   "metadata": {},
   "outputs": [],
   "source": [
    "def download_statedict(run_id, dest='fatt.h5'):\n",
    "    run = api.run(f\"{entity}/{project}/{run_id}\")\n",
    "    key = os.path.join(\"iclr-2021-factored-attention\", *run.path, \"model_state_dict.h5\")\n",
    "    with open(dest, 'wb') as f:\n",
    "        s3.download_fileobj(s3_bucket, key, f)\n",
    "    return dest\n",
    "\n",
    "def get_fatt_run_id(pdb, attention_head_size, num_attention_heads, df):\n",
    "    run_id = df[(df['pdb']==pdb) & (df['num_attention_heads']==num_attention_heads)]['run_id'].values\n",
    "    return run_id[0]\n",
    "\n",
    "def get_gremlin_run_id(pdb, df):\n",
    "    run_id = df[df['pdb']==pdb]['run_id'].values\n",
    "    return run_id[0]\n",
    "\n",
    "def get_gremlin_statedict(pdb, gremlin_df, dest='gremlin.h5'):\n",
    "    run_id = get_gremlin_run_id(pdb, gremlin_df)\n",
    "    f_statedict = download_statedict(run_id, dest=dest)\n",
    "    statedict = torch.load(f_statedict)\n",
    "    return statedict\n",
    "\n",
    "def get_fatt_statedict(pdb, num_attention_heads, fatt_df, attention_head_size=32, dest='fatt.h5'):\n",
    "    run_id = get_fatt_run_id(pdb, attention_head_size, num_attention_heads, fatt_df)\n",
    "    f_statedict = download_statedict(run_id, dest=dest)\n",
    "    statedict = torch.load(f_statedict)\n",
    "    return statedict\n"
   ]
  },
  {
   "cell_type": "code",
   "execution_count": 6,
   "metadata": {},
   "outputs": [],
   "source": [
    "gremlin_statedict = get_gremlin_statedict('2bfw_1_A', gremlin_df)\n",
    "fatt_statedict = get_fatt_statedict('2bfw_1_A', 32, fatt_df)\n",
    "\n",
    "q = fatt_statedict['query']\n",
    "k = fatt_statedict['key']\n",
    "v = fatt_statedict['value']\n",
    "\n",
    "w = gremlin_statedict['weight']"
   ]
  },
  {
   "cell_type": "code",
   "execution_count": 7,
   "metadata": {},
   "outputs": [
    {
     "name": "stdout",
     "output_type": "stream",
     "text": [
      "torch.Size([196, 32, 32]) torch.Size([196, 32, 32]) torch.Size([32, 20, 20]) torch.Size([196, 20, 196, 20])\n"
     ]
    }
   ],
   "source": [
    "print(q.shape, k.shape, v.shape, w.shape)"
   ]
  },
  {
   "cell_type": "code",
   "execution_count": 8,
   "metadata": {},
   "outputs": [],
   "source": [
    "def get_msa_hparams(pdb, df):\n",
    "    pdb = df[df['pdb']==pdb]\n",
    "    hparam_dict = pdb.to_dict()\n",
    "    msa_length = int(list(hparam_dict['msa_length'].values())[0])\n",
    "    num_seqs = int(list(hparam_dict['num_seqs'].values())[0])\n",
    "    return {'msa_length': msa_length, 'num_seqs': num_seqs}"
   ]
  },
  {
   "cell_type": "code",
   "execution_count": null,
   "metadata": {},
   "outputs": [],
   "source": []
  },
  {
   "cell_type": "code",
   "execution_count": 9,
   "metadata": {},
   "outputs": [],
   "source": [
    "\n",
    "def get_correlations(w, w_fatt, L, make_plot=False):\n",
    "    idx = np.triu_indices(L, 1)\n",
    "\n",
    "    fatt_w_no_diag = w_fatt.detach()[idx[0], :, idx[1], :]\n",
    "    gremlin_w_no_diag = w[idx[0], :, idx[1], :]\n",
    "\n",
    "    fatt_w_compare_idx = torch.flatten(fatt_w_no_diag)\n",
    "    gremlin_w_compare_idx = torch.flatten(gremlin_w_no_diag)\n",
    "    w_spearman = spearmanr(fatt_w_compare_idx, gremlin_w_compare_idx)[0]\n",
    "    w_pearson = pearsonr(fatt_w_compare_idx, gremlin_w_compare_idx)[0]\n",
    "    \n",
    "    if make_plot:\n",
    "        # plotting correlation\n",
    "        subset = np.random.choice(len(gremlin_w_compare_idx), size=100000) # plotting the whole thing takes time\n",
    "        plt.title(f'Spearman: {w_spearman:.2f} Pearson: {w_pearson:.2f} PDB: {pdb}')\n",
    "        plt.xlabel('gremlin w')\n",
    "        plt.ylabel('fatt w')\n",
    "        plt.xlim(-2, 2); plt.ylim(-2, 2)\n",
    "        plt.scatter(gremlin_w_compare_idx[subset], fatt_w_compare_idx[subset], s=1)\n",
    "        plt.show()\n",
    "    return w_spearman, w_pearson"
   ]
  },
  {
   "cell_type": "code",
   "execution_count": 49,
   "metadata": {},
   "outputs": [],
   "source": [
    "from mogwai.utils.functional import apc\n",
    "from mogwai.metrics import precisions_in_range\n",
    "\n",
    "def get_info(attention_head_size, \n",
    "             num_attention_heads, \n",
    "             pdb, \n",
    "             fatt_df=fatt_df, \n",
    "             gremlin_df=gremlin_df):\n",
    "    fatt_statedict = get_fatt_statedict(pdb, num_attention_heads, fatt_df, attention_head_size=attention_head_size, dest='fatt.h5')\n",
    "    gremlin_statedict = get_gremlin_statedict(pdb, gremlin_df, dest='gremlin.h5')\n",
    "\n",
    "    hparams = get_msa_hparams(pdb, df=fatt_df)\n",
    "    msa_length = hparams['msa_length']\n",
    "    num_seqs = hparams['num_seqs']\n",
    "    hparams['attention_head_size'] = attention_head_size\n",
    "    hparams['num_attention_heads'] = num_attention_heads\n",
    "    # initialize a matrix, which will be overriden when we load later.\n",
    "    hparams['true_contacts'] = torch.ones([hparams['msa_length'], hparams['msa_length']])\n",
    "    model = fatt_model(**hparams)\n",
    "    model.load_state_dict(torch.load('fatt.h5'))\n",
    "    \n",
    "    w_fatt = model.compute_mrf_weight()\n",
    "    w = gremlin_statedict['weight']\n",
    "    \n",
    "    metrics = {}\n",
    "    metrics['pdb'] = pdb\n",
    "    metrics['msa_length'] = msa_length\n",
    "    metrics['num_seqs'] = num_seqs\n",
    "    metrics['attention_head_size'] = attention_head_size\n",
    "    metrics['num_attention_heads'] = num_attention_heads\n",
    "    \n",
    "    predictions = apc(model.get_contacts())\n",
    "    targets = model._true_contacts\n",
    "    \n",
    "    short = precisions_in_range(predictions, targets, minsep=6, maxsep=13)\n",
    "    for k, v in short.items():\n",
    "        metrics[f'short_{k}'] = float(v.squeeze())\n",
    "    medium = precisions_in_range(predictions, targets, minsep=13, maxsep=25)\n",
    "    for k, v in medium.items():\n",
    "        metrics[f'medium_{k}'] = float(v.squeeze())\n",
    "    long = precisions_in_range(predictions, targets, minsep=13, maxsep=25)\n",
    "    for k, v in long.items():\n",
    "        metrics[f'long_{k}'] = float(v.squeeze())\n",
    "    wspearman, wpearson = get_correlations(w, w_fatt, msa_length)\n",
    "    metrics['w_spearman'] = wspearman\n",
    "    metrics['w_pearson'] = wpearson\n",
    "#     metrics['predicted_contacts_apc'] = predictions\n",
    "#     metrics['true_contacts'] = targets\n",
    "    return metrics"
   ]
  },
  {
   "cell_type": "code",
   "execution_count": null,
   "metadata": {},
   "outputs": [],
   "source": []
  },
  {
   "cell_type": "code",
   "execution_count": 50,
   "metadata": {},
   "outputs": [
    {
     "name": "stderr",
     "output_type": "stream",
     "text": [
      "100%|██████████| 1/1 [01:24<00:00, 84.04s/it]\n"
     ]
    }
   ],
   "source": [
    "\n",
    "info = []\n",
    "for pdb in tqdm(metatest_pdbs[2:3]):\n",
    "    for num_attention_heads in [8, 16, 32, 64, 128, 256, 512]:\n",
    "        info.append(get_info(attention_head_size=32, num_attention_heads=num_attention_heads, pdb=pdb))"
   ]
  },
  {
   "cell_type": "code",
   "execution_count": 51,
   "metadata": {},
   "outputs": [],
   "source": [
    "import pickle as pkl\n",
    "\n",
    "sweep_df = pd.DataFrame.from_records(info)\n",
    "\n",
    "with open('num_head_sweep_df.pkl', 'wb') as f:\n",
    "    pkl.dump(sweep_df, f)\n",
    "\n"
   ]
  },
  {
   "cell_type": "code",
   "execution_count": 52,
   "metadata": {},
   "outputs": [
    {
     "data": {
      "text/html": [
       "<div>\n",
       "<style scoped>\n",
       "    .dataframe tbody tr th:only-of-type {\n",
       "        vertical-align: middle;\n",
       "    }\n",
       "\n",
       "    .dataframe tbody tr th {\n",
       "        vertical-align: top;\n",
       "    }\n",
       "\n",
       "    .dataframe thead th {\n",
       "        text-align: right;\n",
       "    }\n",
       "</style>\n",
       "<table border=\"1\" class=\"dataframe\">\n",
       "  <thead>\n",
       "    <tr style=\"text-align: right;\">\n",
       "      <th></th>\n",
       "      <th>pdb</th>\n",
       "      <th>msa_length</th>\n",
       "      <th>num_seqs</th>\n",
       "      <th>attention_head_size</th>\n",
       "      <th>num_attention_heads</th>\n",
       "      <th>short_auc</th>\n",
       "      <th>short_pr_at_l</th>\n",
       "      <th>short_pr_at_l_2</th>\n",
       "      <th>short_pr_at_l_5</th>\n",
       "      <th>short_pr_at_l_10</th>\n",
       "      <th>...</th>\n",
       "      <th>medium_pr_at_l_2</th>\n",
       "      <th>medium_pr_at_l_5</th>\n",
       "      <th>medium_pr_at_l_10</th>\n",
       "      <th>long_auc</th>\n",
       "      <th>long_pr_at_l</th>\n",
       "      <th>long_pr_at_l_2</th>\n",
       "      <th>long_pr_at_l_5</th>\n",
       "      <th>long_pr_at_l_10</th>\n",
       "      <th>w_spearman</th>\n",
       "      <th>w_pearson</th>\n",
       "    </tr>\n",
       "  </thead>\n",
       "  <tbody>\n",
       "    <tr>\n",
       "      <th>0</th>\n",
       "      <td>1rkt_1_B</td>\n",
       "      <td>200</td>\n",
       "      <td>24747</td>\n",
       "      <td>32</td>\n",
       "      <td>8</td>\n",
       "      <td>0.176282</td>\n",
       "      <td>0.100</td>\n",
       "      <td>0.14</td>\n",
       "      <td>0.250</td>\n",
       "      <td>0.45</td>\n",
       "      <td>...</td>\n",
       "      <td>0.16</td>\n",
       "      <td>0.275</td>\n",
       "      <td>0.40</td>\n",
       "      <td>0.177962</td>\n",
       "      <td>0.085</td>\n",
       "      <td>0.16</td>\n",
       "      <td>0.275</td>\n",
       "      <td>0.40</td>\n",
       "      <td>0.086878</td>\n",
       "      <td>0.145674</td>\n",
       "    </tr>\n",
       "    <tr>\n",
       "      <th>1</th>\n",
       "      <td>1rkt_1_B</td>\n",
       "      <td>200</td>\n",
       "      <td>24747</td>\n",
       "      <td>32</td>\n",
       "      <td>16</td>\n",
       "      <td>0.185198</td>\n",
       "      <td>0.100</td>\n",
       "      <td>0.15</td>\n",
       "      <td>0.275</td>\n",
       "      <td>0.50</td>\n",
       "      <td>...</td>\n",
       "      <td>0.18</td>\n",
       "      <td>0.350</td>\n",
       "      <td>0.50</td>\n",
       "      <td>0.216202</td>\n",
       "      <td>0.110</td>\n",
       "      <td>0.18</td>\n",
       "      <td>0.350</td>\n",
       "      <td>0.50</td>\n",
       "      <td>0.108326</td>\n",
       "      <td>0.185643</td>\n",
       "    </tr>\n",
       "    <tr>\n",
       "      <th>2</th>\n",
       "      <td>1rkt_1_B</td>\n",
       "      <td>200</td>\n",
       "      <td>24747</td>\n",
       "      <td>32</td>\n",
       "      <td>32</td>\n",
       "      <td>0.209821</td>\n",
       "      <td>0.105</td>\n",
       "      <td>0.17</td>\n",
       "      <td>0.325</td>\n",
       "      <td>0.50</td>\n",
       "      <td>...</td>\n",
       "      <td>0.20</td>\n",
       "      <td>0.375</td>\n",
       "      <td>0.65</td>\n",
       "      <td>0.251353</td>\n",
       "      <td>0.130</td>\n",
       "      <td>0.20</td>\n",
       "      <td>0.375</td>\n",
       "      <td>0.65</td>\n",
       "      <td>0.140836</td>\n",
       "      <td>0.235991</td>\n",
       "    </tr>\n",
       "    <tr>\n",
       "      <th>3</th>\n",
       "      <td>1rkt_1_B</td>\n",
       "      <td>200</td>\n",
       "      <td>24747</td>\n",
       "      <td>32</td>\n",
       "      <td>64</td>\n",
       "      <td>0.227103</td>\n",
       "      <td>0.110</td>\n",
       "      <td>0.19</td>\n",
       "      <td>0.350</td>\n",
       "      <td>0.55</td>\n",
       "      <td>...</td>\n",
       "      <td>0.21</td>\n",
       "      <td>0.450</td>\n",
       "      <td>0.75</td>\n",
       "      <td>0.266514</td>\n",
       "      <td>0.110</td>\n",
       "      <td>0.21</td>\n",
       "      <td>0.450</td>\n",
       "      <td>0.75</td>\n",
       "      <td>0.183175</td>\n",
       "      <td>0.297988</td>\n",
       "    </tr>\n",
       "    <tr>\n",
       "      <th>4</th>\n",
       "      <td>1rkt_1_B</td>\n",
       "      <td>200</td>\n",
       "      <td>24747</td>\n",
       "      <td>32</td>\n",
       "      <td>128</td>\n",
       "      <td>0.214597</td>\n",
       "      <td>0.110</td>\n",
       "      <td>0.17</td>\n",
       "      <td>0.325</td>\n",
       "      <td>0.55</td>\n",
       "      <td>...</td>\n",
       "      <td>0.21</td>\n",
       "      <td>0.425</td>\n",
       "      <td>0.75</td>\n",
       "      <td>0.273587</td>\n",
       "      <td>0.135</td>\n",
       "      <td>0.21</td>\n",
       "      <td>0.425</td>\n",
       "      <td>0.75</td>\n",
       "      <td>0.233324</td>\n",
       "      <td>0.362816</td>\n",
       "    </tr>\n",
       "    <tr>\n",
       "      <th>5</th>\n",
       "      <td>1rkt_1_B</td>\n",
       "      <td>200</td>\n",
       "      <td>24747</td>\n",
       "      <td>32</td>\n",
       "      <td>256</td>\n",
       "      <td>0.255990</td>\n",
       "      <td>0.125</td>\n",
       "      <td>0.21</td>\n",
       "      <td>0.375</td>\n",
       "      <td>0.65</td>\n",
       "      <td>...</td>\n",
       "      <td>0.23</td>\n",
       "      <td>0.475</td>\n",
       "      <td>0.70</td>\n",
       "      <td>0.285829</td>\n",
       "      <td>0.140</td>\n",
       "      <td>0.23</td>\n",
       "      <td>0.475</td>\n",
       "      <td>0.70</td>\n",
       "      <td>0.289185</td>\n",
       "      <td>0.430172</td>\n",
       "    </tr>\n",
       "    <tr>\n",
       "      <th>6</th>\n",
       "      <td>1rkt_1_B</td>\n",
       "      <td>200</td>\n",
       "      <td>24747</td>\n",
       "      <td>32</td>\n",
       "      <td>512</td>\n",
       "      <td>0.247069</td>\n",
       "      <td>0.120</td>\n",
       "      <td>0.20</td>\n",
       "      <td>0.375</td>\n",
       "      <td>0.65</td>\n",
       "      <td>...</td>\n",
       "      <td>0.25</td>\n",
       "      <td>0.500</td>\n",
       "      <td>0.75</td>\n",
       "      <td>0.303419</td>\n",
       "      <td>0.145</td>\n",
       "      <td>0.25</td>\n",
       "      <td>0.500</td>\n",
       "      <td>0.75</td>\n",
       "      <td>0.345778</td>\n",
       "      <td>0.488394</td>\n",
       "    </tr>\n",
       "  </tbody>\n",
       "</table>\n",
       "<p>7 rows × 22 columns</p>\n",
       "</div>"
      ],
      "text/plain": [
       "        pdb  msa_length  num_seqs  attention_head_size  num_attention_heads  \\\n",
       "0  1rkt_1_B         200     24747                   32                    8   \n",
       "1  1rkt_1_B         200     24747                   32                   16   \n",
       "2  1rkt_1_B         200     24747                   32                   32   \n",
       "3  1rkt_1_B         200     24747                   32                   64   \n",
       "4  1rkt_1_B         200     24747                   32                  128   \n",
       "5  1rkt_1_B         200     24747                   32                  256   \n",
       "6  1rkt_1_B         200     24747                   32                  512   \n",
       "\n",
       "   short_auc  short_pr_at_l  short_pr_at_l_2  short_pr_at_l_5  \\\n",
       "0   0.176282          0.100             0.14            0.250   \n",
       "1   0.185198          0.100             0.15            0.275   \n",
       "2   0.209821          0.105             0.17            0.325   \n",
       "3   0.227103          0.110             0.19            0.350   \n",
       "4   0.214597          0.110             0.17            0.325   \n",
       "5   0.255990          0.125             0.21            0.375   \n",
       "6   0.247069          0.120             0.20            0.375   \n",
       "\n",
       "   short_pr_at_l_10  ...  medium_pr_at_l_2  medium_pr_at_l_5  \\\n",
       "0              0.45  ...              0.16             0.275   \n",
       "1              0.50  ...              0.18             0.350   \n",
       "2              0.50  ...              0.20             0.375   \n",
       "3              0.55  ...              0.21             0.450   \n",
       "4              0.55  ...              0.21             0.425   \n",
       "5              0.65  ...              0.23             0.475   \n",
       "6              0.65  ...              0.25             0.500   \n",
       "\n",
       "   medium_pr_at_l_10  long_auc  long_pr_at_l  long_pr_at_l_2  long_pr_at_l_5  \\\n",
       "0               0.40  0.177962         0.085            0.16           0.275   \n",
       "1               0.50  0.216202         0.110            0.18           0.350   \n",
       "2               0.65  0.251353         0.130            0.20           0.375   \n",
       "3               0.75  0.266514         0.110            0.21           0.450   \n",
       "4               0.75  0.273587         0.135            0.21           0.425   \n",
       "5               0.70  0.285829         0.140            0.23           0.475   \n",
       "6               0.75  0.303419         0.145            0.25           0.500   \n",
       "\n",
       "   long_pr_at_l_10  w_spearman  w_pearson  \n",
       "0             0.40    0.086878   0.145674  \n",
       "1             0.50    0.108326   0.185643  \n",
       "2             0.65    0.140836   0.235991  \n",
       "3             0.75    0.183175   0.297988  \n",
       "4             0.75    0.233324   0.362816  \n",
       "5             0.70    0.289185   0.430172  \n",
       "6             0.75    0.345778   0.488394  \n",
       "\n",
       "[7 rows x 22 columns]"
      ]
     },
     "execution_count": 52,
     "metadata": {},
     "output_type": "execute_result"
    }
   ],
   "source": [
    "sweep_df"
   ]
  }
 ],
 "metadata": {
  "kernelspec": {
   "display_name": "Python 3",
   "language": "python",
   "name": "python3"
  },
  "language_info": {
   "codemirror_mode": {
    "name": "ipython",
    "version": 3
   },
   "file_extension": ".py",
   "mimetype": "text/x-python",
   "name": "python",
   "nbconvert_exporter": "python",
   "pygments_lexer": "ipython3",
   "version": "3.6.9"
  }
 },
 "nbformat": 4,
 "nbformat_minor": 2
}
